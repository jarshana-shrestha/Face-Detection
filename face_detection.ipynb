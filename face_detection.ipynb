{
 "cells": [
  {
   "cell_type": "code",
   "execution_count": 7,
   "id": "2bb1b7e0-ac77-45b8-971e-50db3ac4bc2b",
   "metadata": {},
   "outputs": [],
   "source": [
    "import cv2\n",
    "import os"
   ]
  },
  {
   "cell_type": "code",
   "execution_count": 10,
   "id": "c5bdee70-6065-44d9-b2ce-4ae2cc1808b3",
   "metadata": {},
   "outputs": [
    {
     "name": "stdout",
     "output_type": "stream",
     "text": [
      "Press 's' to save the image, 'q' to quit.\n",
      "Saved: ./data/jarshana\\jarshana_0.jpg\n",
      "Saved: ./data/jarshana\\jarshana_1.jpg\n",
      "Saved: ./data/jarshana\\jarshana_2.jpg\n",
      "Saved: ./data/jarshana\\jarshana_3.jpg\n",
      "Saved: ./data/jarshana\\jarshana_4.jpg\n",
      "Saved: ./data/jarshana\\jarshana_5.jpg\n",
      "Saved: ./data/jarshana\\jarshana_6.jpg\n",
      "Saved: ./data/jarshana\\jarshana_7.jpg\n",
      "Saved: ./data/jarshana\\jarshana_8.jpg\n"
     ]
    }
   ],
   "source": [
    "# Set label and output directory\n",
    "label = \"jarshana\"\n",
    "output_dir = f\"./data/{label}\"\n",
    "os.makedirs(output_dir, exist_ok=True)\n",
    "\n",
    "# Start webcam\n",
    "cap = cv2.VideoCapture(0)\n",
    "print(\"Press 's' to save the image, 'q' to quit.\")\n",
    "\n",
    "image_count = 0\n",
    "\n",
    "while True:\n",
    "    ret, frame = cap.read()\n",
    "    if not ret:\n",
    "        break\n",
    "\n",
    "    # Show the webcam feed\n",
    "    cv2.imshow(\"Webcam\", frame)\n",
    "\n",
    "    # Wait for key press\n",
    "    key = cv2.waitKey(1) & 0xFF\n",
    "\n",
    "    if key == ord('s'):\n",
    "        # Save image\n",
    "        image_path = os.path.join(output_dir, f\"{label}_{image_count}.jpg\")\n",
    "        cv2.imwrite(image_path, frame)\n",
    "        image_count += 1\n",
    "        print(f\"Saved: {image_path}\")\n",
    "\n",
    "    elif key == ord('q'):\n",
    "        break\n",
    "\n",
    "# Cleanup\n",
    "cap.release()\n",
    "cv2.destroyAllWindows()"
   ]
  },
  {
   "cell_type": "markdown",
   "id": "56215e0c-676d-4fd2-b445-cbc15d5e8384",
   "metadata": {},
   "source": [
    "#### Detect and Crop Faces"
   ]
  },
  {
   "cell_type": "code",
   "execution_count": 11,
   "id": "53893946-1017-4540-97ba-44bde5dbc667",
   "metadata": {},
   "outputs": [],
   "source": [
    "# Path to the directory where images are saved\n",
    "image_dir = \"./data/jarshana\""
   ]
  },
  {
   "cell_type": "code",
   "execution_count": 12,
   "id": "0c79fe76-675c-4538-bdb6-3e7deed551c7",
   "metadata": {},
   "outputs": [
    {
     "name": "stdout",
     "output_type": "stream",
     "text": [
      "Using image: ./data/jarshana\\jarshana_5.jpg\n"
     ]
    }
   ],
   "source": [
    "#Get the latest saved image from teh directory\n",
    "\n",
    "images = sorted(os.listdir(image_dir), key = lambda x: os.path.getctime(os.path.join(image_dir, x)))\n",
    "if len(images) ==0:\n",
    "    print (\"No images found in the directory.\")\n",
    "    exit()\n",
    "    \n",
    "latest_image_path = os.path.join(image_dir, images[-1])\n",
    "print(f\"Using image: {latest_image_path}\")"
   ]
  },
  {
   "cell_type": "code",
   "execution_count": 13,
   "id": "bd11a9b9-8807-468b-b48a-6d8df2aff031",
   "metadata": {},
   "outputs": [],
   "source": [
    "# Read the latest image\n",
    "image = cv2.imread(latest_image_path)\n",
    "gray = cv2.cvtColor(image, cv2.COLOR_BGR2GRAY)\n",
    "\n",
    "# Load the Haar Cascade face detection model using OpenCV.\n",
    "# This model will be used to detect faces in the captured images.\n",
    "face_cascade = cv2.CascadeClassifier(cv2.data.haarcascades + 'haarcascade_frontalface_default.xml')\n",
    "\n",
    "# Perform face detection\n",
    "faces = face_cascade.detectMultiScale(gray, scaleFactor=1.1, \n",
    "minNeighbors=5, minSize=(30, 30))\n",
    "\n",
    "# Perform face detection with adjusted parameters\n",
    "faces = face_cascade.detectMultiScale(\n",
    "    gray,\n",
    "    scaleFactor=1.05,  # Reduce the scale step for finer detection\n",
    "    minNeighbors=6,    # Increase for stricter face detection\n",
    "    minSize=(50, 50)   # Minimum face size to detect\n",
    " )\n",
    "\n",
    "# Draw bounding boxes around detected faces\n",
    "for (x, y, w, h) in faces:\n",
    "    cv2.rectangle(image, (x, y), (x + w, y + h), (255, 0, 0), 2)"
   ]
  },
  {
   "cell_type": "code",
   "execution_count": null,
   "id": "d1bc317a-d0fa-43ce-9df9-45da2ae16809",
   "metadata": {},
   "outputs": [],
   "source": [
    "# Display the image with bounding boxes\n",
    "cv2.imshow(\"Detected Faces\", image)\n",
    "cv2.waitKey(0)  # Wait for a key press to close the window\n",
    "cv2.destroyAllWindows()\n",
    "\n",
    "# Draw bounding boxes and add labels\n",
    "if len(faces) == 0:\n",
    "    print(\"No faces detected.\")\n",
    "else:\n",
    "    for (x, y, w, h) in faces:\n",
    "        # Draw rectangle with custom color and thickness\n",
    "        color = (0, 255, 0)  # Green color for the box\n",
    "        thickness = 2\n",
    "        cv2.rectangle(image, (x, y), (x + w, y + h), color, thickness)\n",
    "\n",
    "        # Add label above the rectangle\n",
    "        label = \"Face\"\n",
    "        font = cv2.FONT_HERSHEY_SIMPLEX\n",
    "        font_scale = 0.5\n",
    "        font_thickness = 1\n",
    "        label_size, _ = cv2.getTextSize(label, font, font_scale, font_thickness)\n",
    "\n",
    "        label_x = x\n",
    "        label_y = y - 10 if y - 10 > 10 else y + 10  # Adjust position if label goes out of bounds\n",
    "        \n",
    "        # Draw the background rectangle for the label\n",
    "        cv2.rectangle(image, (label_x, label_y - label_size[1] - 2), \n",
    "                      (label_x + label_size[0], label_y + 2), color, cv2.FILLED)\n",
    "        # Put the label on the image\n",
    "        cv2.putText(image, label, (label_x, label_y), font, \n",
    "                    font_scale, (0, 0, 0), font_thickness)\n",
    "\n",
    "# Display the image with bounding boxes and labels\n",
    "cv2.imshow(\"Detected Faces\", image)\n",
    "cv2.waitKey(0)  # Wait for a key press to close the window\n",
    "cv2.destroyAllWindows()"
   ]
  }
 ],
 "metadata": {
  "kernelspec": {
   "display_name": "Python 3 (ipykernel)",
   "language": "python",
   "name": "python3"
  },
  "language_info": {
   "codemirror_mode": {
    "name": "ipython",
    "version": 3
   },
   "file_extension": ".py",
   "mimetype": "text/x-python",
   "name": "python",
   "nbconvert_exporter": "python",
   "pygments_lexer": "ipython3",
   "version": "3.11.7"
  }
 },
 "nbformat": 4,
 "nbformat_minor": 5
}
